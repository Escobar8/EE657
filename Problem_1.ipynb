{
 "cells": [
  {
   "cell_type": "markdown",
   "metadata": {},
   "source": [
    "# Code "
   ]
  },
  {
   "cell_type": "code",
   "execution_count": 1,
   "metadata": {
    "collapsed": false,
    "scrolled": true
   },
   "outputs": [
    {
     "name": "stdout",
     "output_type": "stream",
     "text": [
      "Missclassification rate of 5 = 0.198630136986\n",
      "Missclassification rate of 6 = 0.20320855615\n",
      "confusion matrix :\n",
      "[[ 0.35135135  0.08708709]\n",
      " [ 0.11411411  0.44744745]]\n"
     ]
    }
   ],
   "source": [
    "import numpy as np\n",
    "import os\n",
    "\n",
    "path = os.getcwd() + '/P1_data'\n",
    "train_data = np.genfromtxt(path +'/P1_data_train.csv', delimiter=',')\n",
    "label_train = np.genfromtxt(path +'/P1_labels_train.csv', delimiter=',')\n",
    "\n",
    "\n",
    "data5=[]\n",
    "data6=[]\n",
    "\n",
    "#seperating the data from lables\n",
    "for i in range(777):\n",
    "    if label_train[i]==5:\n",
    "        data5.append(train_data[i])\n",
    "    else:\n",
    "        data6.append(train_data[i])\n",
    "\n",
    "mean_5=np.mean(data5,axis=0)\n",
    "#print mean_5\n",
    "mean_6=np.mean(data6,axis=0)\n",
    "#print mean_6\n",
    "\n",
    "pi_5 = float(len(data5))/777\n",
    "pi_6 = 1 - pi_5\n",
    "\n",
    "cov_5 = np.cov(list(map(list, zip(*data5))),ddof=0)\n",
    "cov_6 = np.cov(list(map(list, zip(*data6))),ddof=0)\n",
    "\n",
    "inv_cov_5=np.linalg.inv(cov_5)\n",
    "inv_cov_6=np.linalg.inv(cov_6)\n",
    "\n",
    "y5 = np.log(pi_5)-0.5*(np.log(np.absolute(np.linalg.det(cov_5))))\n",
    "y6 = np.log(pi_6)-0.5*(np.log(np.absolute(np.linalg.det(cov_6))))\n",
    "\n",
    "test_data = np.genfromtxt(path +'/P1_data_test.csv', delimiter=',')\n",
    "label_test= np.genfromtxt(path + '/P1_labels_test.csv', delimiter=',')\n",
    "\n",
    "result=np.zeros(len(test_data))\n",
    "confusion=np.zeros((2,2))\n",
    "\n",
    "for i in range(int(len(test_data))):\n",
    "    x=test_data[i]\n",
    "    r5= -1/2*(np.matmul(x-mean_5,np.matmul(inv_cov_5,x.T-mean_5.T)))+ y5\n",
    "    r6= -1/2*(np.matmul(x-mean_6,np.matmul(inv_cov_6,x.T-mean_6.T)))+ y6\n",
    "    if r5>r6:\n",
    "        result[i]=5\n",
    "    else:\n",
    "        result[i]=6\n",
    "    if label_test[i]==5:\n",
    "        if result[i]==5:\n",
    "            confusion[0][0] +=1\n",
    "        if result[i]==6:\n",
    "            confusion[1][0] +=1\n",
    "    if label_test[i]==6:\n",
    "        if result[i]==5:\n",
    "            confusion[0][1] +=1\n",
    "        if result[i]==6:\n",
    "            confusion[1][1] +=1\n",
    "\n",
    "#normalizing confusion matrix\n",
    "confusion/=len(test_data)"
   ]
  },
  {
   "cell_type": "markdown",
   "metadata": {},
   "source": [
    "# Mean of the training data with label 5"
   ]
  },
  {
   "cell_type": "code",
   "execution_count": 2,
   "metadata": {
    "collapsed": false,
    "scrolled": false
   },
   "outputs": [
    {
     "data": {
      "text/plain": [
       "array([  5.        ,   5.08333333,   8.51515152,  10.34090909,\n",
       "        10.77272727,   9.58838384,   6.35606061,   4.76767677,\n",
       "         5.22979798,   6.20959596,  10.78535354,  10.08585859,\n",
       "         8.82828283,   7.91161616,   5.62373737,   4.69949495,\n",
       "         4.79040404,   6.82323232,  10.23989899,   7.2020202 ,\n",
       "         6.05555556,   5.0479798 ,   4.75757576,   4.68686869,\n",
       "         5.07575758,   6.62878788,  10.51010101,   9.99747475,\n",
       "         7.99747475,   6.53787879,   4.81313131,   4.71212121,\n",
       "         5.18686869,   5.71969697,   7.6010101 ,   8.18686869,\n",
       "         8.88636364,   7.91161616,   5.77777778,   4.43434343,\n",
       "         4.82323232,   5.15909091,   5.34343434,   6.06313131,\n",
       "         7.69949495,   8.72474747,   6.16666667,   4.81565657,\n",
       "         4.56818182,   5.11363636,   7.23989899,   8.01767677,\n",
       "         9.15909091,   8.12878788,   5.81313131,   4.86616162,\n",
       "         4.73737374,   5.12626263,   8.96464646,  10.56313131,\n",
       "         9.06565657,   6.73989899,   5.06818182,   5.24494949])"
      ]
     },
     "execution_count": 2,
     "metadata": {},
     "output_type": "execute_result"
    }
   ],
   "source": [
    "mean_5"
   ]
  },
  {
   "cell_type": "markdown",
   "metadata": {},
   "source": [
    "# Mean of the training data with label 6"
   ]
  },
  {
   "cell_type": "code",
   "execution_count": 3,
   "metadata": {
    "collapsed": false
   },
   "outputs": [
    {
     "data": {
      "text/plain": [
       "array([  5.19685039,   5.08923885,   5.95275591,  10.07086614,\n",
       "         8.56955381,   5.74540682,   5.39632546,   5.02624672,\n",
       "         4.61154856,   4.97375328,   8.32283465,  10.58005249,\n",
       "         7.17847769,   5.29133858,   4.86614173,   4.73753281,\n",
       "         4.93963255,   5.24409449,   9.88976378,   8.76377953,\n",
       "         4.92913386,   5.02624672,   4.81889764,   5.06036745,\n",
       "         4.78740157,   5.62729659,  10.93175853,   8.11548556,\n",
       "         6.48031496,   5.7664042 ,   5.27821522,   4.67454068,\n",
       "         5.12860892,   6.09448819,  10.7847769 ,   9.76902887,\n",
       "         9.832021  ,   8.74278215,   5.86351706,   4.81889764,\n",
       "         5.03674541,   5.8976378 ,  10.7480315 ,   9.26771654,\n",
       "         7.89501312,   9.59580052,   8.68503937,   4.99475066,\n",
       "         4.81364829,   5.47506562,   9.34908136,  10.20734908,\n",
       "         7.49868766,   9.76902887,   9.41994751,   5.10761155,\n",
       "         4.90551181,   5.05511811,   6.05249344,   9.44094488,\n",
       "        11.30183727,   9.95538058,   6.66404199,   5.29133858])"
      ]
     },
     "execution_count": 3,
     "metadata": {},
     "output_type": "execute_result"
    }
   ],
   "source": [
    "mean_6"
   ]
  },
  {
   "cell_type": "markdown",
   "metadata": {},
   "source": [
    "# Covariance of training data with label 5"
   ]
  },
  {
   "cell_type": "code",
   "execution_count": 4,
   "metadata": {
    "collapsed": false,
    "scrolled": true
   },
   "outputs": [
    {
     "data": {
      "text/plain": [
       "array([[ 38.87878788,  21.48484848,  23.59343434, ...,  24.71212121,\n",
       "         24.8510101 ,  25.71969697],\n",
       "       [ 21.48484848,  38.50568182,  23.01262626, ...,  27.85248316,\n",
       "         23.5625    ,  25.52504209],\n",
       "       [ 23.59343434,  23.01262626,  44.67401286, ...,  23.97237527,\n",
       "         19.34871442,  26.90159167],\n",
       "       ..., \n",
       "       [ 24.71212121,  27.85248316,  23.97237527, ...,  45.62679191,\n",
       "         26.25258264,  24.49300454],\n",
       "       [ 24.8510101 ,  23.5625    ,  19.34871442, ...,  26.25258264,\n",
       "         39.28575528,  24.95299587],\n",
       "       [ 25.71969697,  25.52504209,  26.90159167, ...,  24.49300454,\n",
       "         24.95299587,  41.08393914]])"
      ]
     },
     "execution_count": 4,
     "metadata": {},
     "output_type": "execute_result"
    }
   ],
   "source": [
    "cov_5"
   ]
  },
  {
   "cell_type": "markdown",
   "metadata": {},
   "source": [
    "# Covariance of training data with label 6"
   ]
  },
  {
   "cell_type": "code",
   "execution_count": 5,
   "metadata": {
    "collapsed": false
   },
   "outputs": [
    {
     "data": {
      "text/plain": [
       "array([[ 42.92450452,  23.42862752,  25.62609792, ...,  20.85917705,\n",
       "         24.01364003,  28.49383099],\n",
       "       [ 23.42862752,  40.29649837,  25.98059396, ...,  25.11684268,\n",
       "         26.76751331,  27.75090417],\n",
       "       [ 25.62609792,  25.98059396,  42.79041891, ...,  22.37846942,\n",
       "         20.9158865 ,  29.15812098],\n",
       "       ..., \n",
       "       [ 20.85917705,  25.11684268,  22.37846942, ...,  40.86152617,\n",
       "         26.69629584,  22.87389175],\n",
       "       [ 24.01364003,  26.76751331,  20.9158865 , ...,  26.69629584,\n",
       "         45.98686975,  26.5309484 ],\n",
       "       [ 28.49383099,  27.75090417,  29.15812098, ...,  22.87389175,\n",
       "         26.5309484 ,  42.04373075]])"
      ]
     },
     "execution_count": 5,
     "metadata": {},
     "output_type": "execute_result"
    }
   ],
   "source": [
    "cov_6"
   ]
  },
  {
   "cell_type": "markdown",
   "metadata": {},
   "source": [
    "# Probability of training data with label 5"
   ]
  },
  {
   "cell_type": "code",
   "execution_count": 6,
   "metadata": {
    "collapsed": false
   },
   "outputs": [
    {
     "data": {
      "text/plain": [
       "0.5096525096525096"
      ]
     },
     "execution_count": 6,
     "metadata": {},
     "output_type": "execute_result"
    }
   ],
   "source": [
    "pi_5"
   ]
  },
  {
   "cell_type": "markdown",
   "metadata": {},
   "source": [
    "# Probability of training data with label 6"
   ]
  },
  {
   "cell_type": "code",
   "execution_count": 7,
   "metadata": {
    "collapsed": false
   },
   "outputs": [
    {
     "data": {
      "text/plain": [
       "0.49034749034749037"
      ]
     },
     "execution_count": 7,
     "metadata": {},
     "output_type": "execute_result"
    }
   ],
   "source": [
    "pi_6"
   ]
  },
  {
   "cell_type": "markdown",
   "metadata": {},
   "source": [
    "# Misclassification rates"
   ]
  },
  {
   "cell_type": "code",
   "execution_count": 10,
   "metadata": {
    "collapsed": false
   },
   "outputs": [
    {
     "name": "stdout",
     "output_type": "stream",
     "text": [
      "Missclassification rate of 5 = 0.198630136986\n",
      "Missclassification rate of 6 = 0.20320855615\n"
     ]
    }
   ],
   "source": [
    "print(\"Missclassification rate of 5 = \" + str(confusion[0][1]/(confusion[0][1]+confusion[0][0])))\n",
    "print(\"Missclassification rate of 6 = \" + str(confusion[1][0]/(confusion[1][1]+confusion[1][0])))"
   ]
  },
  {
   "cell_type": "markdown",
   "metadata": {},
   "source": [
    "# Confusion Matrix"
   ]
  },
  {
   "cell_type": "code",
   "execution_count": 11,
   "metadata": {
    "collapsed": false
   },
   "outputs": [
    {
     "data": {
      "text/plain": [
       "array([[ 0.35135135,  0.08708709],\n",
       "       [ 0.11411411,  0.44744745]])"
      ]
     },
     "execution_count": 11,
     "metadata": {},
     "output_type": "execute_result"
    }
   ],
   "source": [
    "confusion"
   ]
  },
  {
   "cell_type": "code",
   "execution_count": null,
   "metadata": {
    "collapsed": true
   },
   "outputs": [],
   "source": [
    ""
   ]
  }
 ],
 "metadata": {
  "kernelspec": {
   "display_name": "Python [conda root]",
   "language": "python",
   "name": "conda-root-py"
  },
  "language_info": {
   "codemirror_mode": {
    "name": "ipython",
    "version": 2.0
   },
   "file_extension": ".py",
   "mimetype": "text/x-python",
   "name": "python",
   "nbconvert_exporter": "python",
   "pygments_lexer": "ipython2",
   "version": "2.7.13"
  }
 },
 "nbformat": 4,
 "nbformat_minor": 0
}