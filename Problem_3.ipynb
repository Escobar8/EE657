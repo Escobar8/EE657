{
 "cells": [
  {
   "cell_type": "markdown",
   "metadata": {},
   "source": [
    "# Importing libraries"
   ]
  },
  {
   "cell_type": "code",
   "execution_count": 22,
   "metadata": {
    "collapsed": false
   },
   "outputs": [],
   "source": [
    "import os\n",
    "import numpy as np\n",
    "from numpy import genfromtxt\n",
    "import math\n",
    "import random\n",
    "import matplotlib.pyplot as plt"
   ]
  },
  {
   "cell_type": "markdown",
   "metadata": {},
   "source": [
    "# Loading data and assignment "
   ]
  },
  {
   "cell_type": "code",
   "execution_count": 8,
   "metadata": {
    "collapsed": true
   },
   "outputs": [],
   "source": [
    "path = os.getcwd() + '/Problem_3'\n",
    "dataset = genfromtxt(path + '/Wage_dataset.csv', delimiter=',')\n",
    "\n",
    "wage = dataset[:,-1]\n",
    "age = dataset[:,1]\n",
    "edu = dataset[:,4]\n",
    "year = dataset[:,0]"
   ]
  },
  {
   "cell_type": "markdown",
   "metadata": {},
   "source": [
    "# Defining Mean Square root Function"
   ]
  },
  {
   "cell_type": "code",
   "execution_count": 9,
   "metadata": {
    "collapsed": true
   },
   "outputs": [],
   "source": [
    "def Mean_square_error(act,predict):\n",
    "    sum=0\n",
    "    for i in range(len(act)):\n",
    "        sum=sum+(act[i][0]-predict[i][0])*(act[i][0]-predict[i][0])\n",
    "    return float(sum)/float(len(act))"
   ]
  },
  {
   "cell_type": "markdown",
   "metadata": {},
   "source": [
    "# Seperating The dataset into train and test with ratio 80:20 "
   ]
  },
  {
   "cell_type": "code",
   "execution_count": 10,
   "metadata": {
    "collapsed": true
   },
   "outputs": [],
   "source": [
    "length=int(len(age)*0.8)\n",
    "trainage=np.matrix(age[0:length])\n",
    "trainage=trainage.transpose().tolist()\n",
    "\n",
    "trainwage=np.matrix(wage[0:length])\n",
    "trainwage=trainwage.transpose().tolist()\n",
    "\n",
    "testage=np.matrix(age[length:])\n",
    "testage=testage.transpose().tolist()\n",
    "\n",
    "testwage=np.matrix(wage[length:])\n",
    "testwage=testwage.transpose().tolist()\n",
    "\n",
    "testyear=np.matrix(year[length:])\n",
    "testyear=testyear.transpose().tolist()\n",
    "\n",
    "trainyear=np.matrix(wage[0:length])\n",
    "trainyear=trainyear.transpose().tolist()"
   ]
  },
  {
   "cell_type": "markdown",
   "metadata": {},
   "source": [
    "# Initializing variables "
   ]
  },
  {
   "cell_type": "code",
   "execution_count": 12,
   "metadata": {
    "collapsed": false
   },
   "outputs": [],
   "source": [
    "kmin_age=0\n",
    "min_Age=0\n",
    "kmin_year=0\n",
    "min_Year=0\n",
    "e_age=[]\n",
    "e_year=[]\n",
    "K_array=[]"
   ]
  },
  {
   "cell_type": "markdown",
   "metadata": {},
   "source": [
    "# Construcitng A and Age Vs Wage Prediction, Year Vs Wage prediction and finding the min degree of polynomial "
   ]
  },
  {
   "cell_type": "markdown",
   "metadata": {},
   "source": [
    "for deciding the degree, i started with 10 then went on to 15 and saw the trend in mean square error"
   ]
  },
  {
   "cell_type": "code",
   "execution_count": 25,
   "metadata": {
    "collapsed": false
   },
   "outputs": [
    {
     "name": "stdout",
     "output_type": "stream",
     "text": [
      "K= 1\n",
      "Mean Square Error for Age prediction\n",
      "1811.1787497\n",
      "Mean Square Error for Year prediction\n",
      "3587622.27268\n",
      "K= 2\n",
      "Mean Square Error for Age prediction\n",
      "1720.87994104\n",
      "Mean Square Error for Year prediction\n",
      "1.86115637824e-24\n",
      "K= 3\n",
      "Mean Square Error for Age prediction\n",
      "1664.64741002\n",
      "Mean Square Error for Year prediction\n",
      "1.93055707979e-19\n",
      "K= 4\n",
      "Mean Square Error for Age prediction\n",
      "1661.94072889\n",
      "Mean Square Error for Year prediction\n",
      "3.17480622285e-15\n",
      "K= 5\n",
      "Mean Square Error for Age prediction\n",
      "1657.20451769\n",
      "Mean Square Error for Year prediction\n",
      "9.52203563374e-11\n",
      "K= 6\n",
      "Mean Square Error for Age prediction\n",
      "1656.47055692\n",
      "Mean Square Error for Year prediction\n",
      "3.50065427072e-07\n",
      "K= 7\n",
      "Mean Square Error for Age prediction\n",
      "1652.96075022\n",
      "Mean Square Error for Year prediction\n",
      "0.000110328058904\n",
      "K= 8\n",
      "Mean Square Error for Age prediction\n",
      "1651.4182793\n",
      "Mean Square Error for Year prediction\n",
      "1692.02832975\n",
      "K= 9\n",
      "Mean Square Error for Age prediction\n",
      "1651.30336327\n",
      "Mean Square Error for Year prediction\n",
      "4175948.32415\n",
      "K= 10\n",
      "Mean Square Error for Age prediction\n",
      "1661.29461048\n",
      "Mean Square Error for Year prediction\n",
      "48141513726.6\n",
      "K= 11\n",
      "Mean Square Error for Age prediction\n",
      "3383.57733547\n",
      "Mean Square Error for Year prediction\n",
      "2.69545027182e+17\n",
      "K= 12\n",
      "Mean Square Error for Age prediction\n",
      "1919.00485449\n",
      "Mean Square Error for Year prediction\n",
      "9.39101649117e+21\n",
      "K= 13\n",
      "Mean Square Error for Age prediction\n",
      "2185.22725064\n",
      "Mean Square Error for Year prediction\n",
      "1.51288355075e+22\n",
      "K= 14\n",
      "Mean Square Error for Age prediction\n",
      "3678.94063774\n",
      "Mean Square Error for Year prediction\n",
      "2.20661729999e+28\n"
     ]
    }
   ],
   "source": [
    "for k in range(1,15):\n",
    "    print 'K=',k\n",
    "    K_array.append(k)\n",
    "    \n",
    "    #Age vs Wage Prediction\n",
    "    A=[]\n",
    "    for i in trainage:\n",
    "        row=[]\n",
    "        for l in range(k):\n",
    "            row.append(i[0]**l)\n",
    "        A.append(row)\n",
    "    A=np.matrix(A)\n",
    "    R=np.matrix(trainwage)\n",
    "    w=np.linalg.inv(np.transpose(A)*A)*np.transpose(A)*R\n",
    "    Xtest=[]\n",
    "    for i in testage:\n",
    "        row=[]\n",
    "        for j in range(k):\n",
    "            row.append(i[0]**j)\n",
    "        Xtest.append(row)\n",
    "    Ypred=Xtest*w\n",
    "    print \"Mean Square Error for Age prediction\"\n",
    "    error= Mean_square_error(testwage,Ypred)\n",
    "    print error\n",
    "    e_age.append(error)\n",
    "    if (k==1):\n",
    "        min_Age=error\n",
    "    if (min_Age>error):\n",
    "        min_Age=error\n",
    "        kmin_age=k\n",
    "\n",
    "\n",
    "    #Year vs Wage Prediction\n",
    "    AY=[]\n",
    "    for i in trainyear:\n",
    "        row=[]\n",
    "        for z in range(k):\n",
    "            row.append(i[0]**z)\n",
    "        AY.append(row)\n",
    "    AY=np.matrix(AY)\n",
    "    R=np.matrix(trainyear)\n",
    "    W=np.linalg.inv(np.transpose(AY)*AY)*np.transpose(AY)*R\n",
    "    Xtest=[]\n",
    "    for i in testyear:\n",
    "        row=[]\n",
    "        for j in range(k):\n",
    "            row.append(i[0]**j)\n",
    "        Xtest.append(row)\n",
    "    Ypred=Xtest*W\n",
    "    print \"Mean Square Error for Year prediction\"\n",
    "    error= Mean_square_error(testyear,Ypred)\n",
    "    print error\n",
    "    e_year.append(error)\n",
    "    if (k==1):\n",
    "        min_Year=error\n",
    "    if (min_Year>error):\n",
    "        min_Year=error\n",
    "        kmin_year=k"
   ]
  },
  {
   "cell_type": "markdown",
   "metadata": {},
   "source": [
    "# Order of Polynomial : Age Vs Wage"
   ]
  },
  {
   "cell_type": "code",
   "execution_count": 23,
   "metadata": {
    "collapsed": false
   },
   "outputs": [
    {
     "data": {
      "text/plain": [
       "9"
      ]
     },
     "execution_count": 23,
     "metadata": {},
     "output_type": "execute_result"
    }
   ],
   "source": [
    "kmin_age"
   ]
  },
  {
   "cell_type": "markdown",
   "metadata": {},
   "source": [
    "# Order of Polynomial : Year Vs Wage"
   ]
  },
  {
   "cell_type": "code",
   "execution_count": 24,
   "metadata": {
    "collapsed": false
   },
   "outputs": [
    {
     "data": {
      "text/plain": [
       "2"
      ]
     },
     "execution_count": 24,
     "metadata": {},
     "output_type": "execute_result"
    }
   ],
   "source": [
    "kmin_year"
   ]
  },
  {
   "cell_type": "markdown",
   "metadata": {},
   "source": [
    "# Plot 1 : education vs wage"
   ]
  },
  {
   "cell_type": "code",
   "execution_count": 3,
   "metadata": {
    "collapsed": false
   },
   "outputs": [
    {
     "data": {
      "image/png": "[encoded data removed]",
      "text/plain": [
       "<matplotlib.figure.Figure at 0x7fec57710790>"
      ]
     },
     "metadata": {},
     "output_type": "display_data"
    }
   ],
   "source": [
    "plt.figure(1)\n",
    "plt.scatter(edu,wage)\n",
    "plt.show()"
   ]
  },
  {
   "cell_type": "markdown",
   "metadata": {},
   "source": [
    "# Plot 2 "
   ]
  },
  {
   "cell_type": "code",
   "execution_count": 4,
   "metadata": {
    "collapsed": false
   },
   "outputs": [
    {
     "data": {
      "image/png": "[encoded data removed]",
      "text/plain": [
       "<matplotlib.figure.Figure at 0x7fec3dade050>"
      ]
     },
     "metadata": {},
     "output_type": "display_data"
    }
   ],
   "source": [
    "plt.figure(2)\n",
    "plt.scatter(K_array,e_age)\n",
    "plt.show()"
   ]
  },
  {
   "cell_type": "markdown",
   "metadata": {},
   "source": [
    "# Plot 3 "
   ]
  },
  {
   "cell_type": "code",
   "execution_count": 5,
   "metadata": {
    "collapsed": false,
    "scrolled": true
   },
   "outputs": [
    {
     "data": {
      "image/png": "[encoded data removed]",
      "text/plain": [
       "<matplotlib.figure.Figure at 0x7fec3da341d0>"
      ]
     },
     "metadata": {},
     "output_type": "display_data"
    }
   ],
   "source": [
    "plt.figure(3)\n",
    "plt.scatter(K_array,e_year)\n",
    "plt.show()"
   ]
  },
  {
   "cell_type": "code",
   "execution_count": null,
   "metadata": {
    "collapsed": false
   },
   "outputs": [],
   "source": []
  },
  {
   "cell_type": "code",
   "execution_count": null,
   "metadata": {
    "collapsed": true
   },
   "outputs": [],
   "source": []
  }
 ],
 "metadata": {
  "kernelspec": {
   "display_name": "Python [conda root]",
   "language": "python",
   "name": "conda-root-py"
  },
  "language_info": {
   "codemirror_mode": {
    "name": "ipython",
    "version": 2
   },
   "file_extension": ".py",
   "mimetype": "text/x-python",
   "name": "python",
   "nbconvert_exporter": "python",
   "pygments_lexer": "ipython2",
   "version": "2.7.13"
  }
 },
 "nbformat": 4,
 "nbformat_minor": 2
}
